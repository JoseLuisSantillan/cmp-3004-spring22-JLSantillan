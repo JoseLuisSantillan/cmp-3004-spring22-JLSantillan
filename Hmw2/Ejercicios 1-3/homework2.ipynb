{
 "cells": [
  {
   "cell_type": "code",
   "execution_count": null,
   "id": "d5d43b79",
   "metadata": {},
   "outputs": [],
   "source": [
    "; Deber 2\n",
    "; Jose Luis Santillan\n",
    "; 211496"
   ]
  },
  {
   "cell_type": "code",
   "execution_count": 141,
   "id": "9c661f66",
   "metadata": {},
   "outputs": [
    {
     "data": {
      "text/html": [
       "Changes: <br /><table><tr><th>Type</th><th>Identifier</th><th>Value</th><tr><td>Register</td><td>EAX</td>\n",
       "            <td>0</td></tr><tr><td>Register</td><td>EBX</td>\n",
       "            <td>50</td></tr><tr><td>Register</td><td>ECX</td>\n",
       "            <td>0</td></tr><tr><td>Register</td><td>EBP</td>\n",
       "            <td>0</td></tr><tr><td>Flag</td><td>ZF</td>\n",
       "            <td>1</td></tr><tr><td>Flag</td><td>SF</td>\n",
       "            <td>0</td></tr></table>"
      ]
     },
     "metadata": {},
     "output_type": "display_data"
    }
   ],
   "source": [
    ";1)\n",
    ";A) \n",
    "\n",
    "main:      mov eax, 50\n",
    "           push eax\n",
    "           xor eax, eax\n",
    "           call fib\n",
    "           pop ebx\n",
    "           mov ecx, eax\n",
    "           xor eax, eax\n",
    "           int 32\n",
    "fib:       push ebp\n",
    "           mov ebp, esp\n",
    "           mov ebx, [ebp + 2]\n",
    "           mov ecx, 1\n",
    "           cmp ebx, ecx\n",
    "           je basecase1\n",
    "           xor ecx, ecx\n",
    "           cmp ebx, ecx\n",
    "           jle basecase0\n",
    "           dec ebx\n",
    "           push ebx\n",
    "           call fib\n",
    "           pop ebx\n",
    "           dec ebx\n",
    "           push eax\n",
    "           push ebx\n",
    "           call fib\n",
    "           pop ebx\n",
    "           pop ecx\n",
    "           add eax, ecx\n",
    "           pop ebp\n",
    "           ret\n",
    "basecase1: mov eax, 1\n",
    "           pop ebp\n",
    "           ret\n",
    "basecase0: mov eax, 0\n",
    "           pop ebp\n",
    "           ret\n"
   ]
  },
  {
   "cell_type": "code",
   "execution_count": 142,
   "id": "6d2dcc79",
   "metadata": {},
   "outputs": [
    {
     "name": "error_msg",
     "output_type": "stream",
     "text": [
      "Line 3: Invalid argument: 100h"
     ]
    }
   ],
   "source": [
    ";B)\n",
    "\n",
    "org 100h      \n",
    "mov cx, 04h\n",
    "\n",
    " \n",
    "inp:    mov ah, 01h\n",
    "        int 21h          \n",
    "\n",
    "        sub al, 30h    \n",
    "        mov bl, al\n",
    "        mov ax, dx\n",
    "        mov dx, 10h\n",
    "        mul dx     \n",
    "        \n",
    "        mov bh, 00h\n",
    "        add ax, bx\n",
    "        mov dx, ax\n",
    "    loop inp      \n",
    "          \n",
    "            \n",
    "mov ax, dx\n",
    "mov dx, 0000h\n",
    "mov bx, 64h\n",
    "mul bx\n",
    "mov bx, 100h\n",
    "div bx \n",
    "mov cx, ax\n",
    "mov dx, 0000h\n",
    "            \n",
    "mov bx, 400h\n",
    "div bx\n",
    "jz yes              \n",
    "\n",
    "mov ax, cx\n",
    "mov bx, 04h\n",
    "mov dx, 0000h\n",
    "div bx\n",
    "jnz no\n",
    "\n",
    "mov ax, cx   \n",
    "mov dx, 0000h\n",
    "mov bx, 100h\n",
    "div bx\n",
    "jnz no\n",
    "jz yes\n",
    "\n",
    "no: \n",
    "    print 'Not a  Leap Year'\n",
    "    jmp exit\n",
    "\n",
    "yes:\n",
    "    print 'Leap Year'\n",
    "\n",
    "exit:\n",
    "\n",
    "ret\n",
    "\n"
   ]
  },
  {
   "cell_type": "code",
   "execution_count": 143,
   "id": "ea64e1cb",
   "metadata": {},
   "outputs": [
    {
     "name": "error_msg",
     "output_type": "stream",
     "text": [
      "Line 11: Unknown symbol: loop"
     ]
    }
   ],
   "source": [
    ";C)\n",
    ".data\n",
    "    arreglo DB 5,10,15\n",
    ".text\n",
    "    mov eax, [arreglo]\n",
    "    mov ecx, 3\n",
    "    mov ebx, 0\n",
    "loop: inc ebx\n",
    "    add eax, [arreglo+ebx]\n",
    "    cmp ebx, ecx\n",
    "    jne loop\n",
    "    mov ebx, eax\n",
    "    mov eax, 3\n",
    "    idiv ebx\n"
   ]
  },
  {
   "cell_type": "code",
   "execution_count": 144,
   "id": "8f9ba415",
   "metadata": {},
   "outputs": [
    {
     "data": {
      "text/html": [
       "Changes: <br /><table><tr><th>Type</th><th>Identifier</th><th>Value</th><tr><td>Register</td><td>EAX</td>\n",
       "            <td>0</td></tr><tr><td>Register</td><td>EBX</td>\n",
       "            <td>30</td></tr><tr><td>Register</td><td>ECX</td>\n",
       "            <td>3</td></tr><tr><td>Register</td><td>EDX</td>\n",
       "            <td>3</td></tr><tr><td>Flag</td><td>ZF</td>\n",
       "            <td>1</td></tr><tr><td>Flag</td><td>SF</td>\n",
       "            <td>0</td></tr></table>"
      ]
     },
     "metadata": {},
     "output_type": "display_data"
    }
   ],
   "source": [
    "mov edx,0\n",
    "mov ecx,3\n",
    "mov ebx,0\n",
    "mov eax, [arreglo]\n",
    "loop: inc ebx\n",
    "    add eax,[arreglo+ebx]\n",
    "    cmp ebx,ecx\n",
    "    jne loop\n",
    "    mov ebx,eax\n",
    "    mov eax,3\n",
    "    idiv ebx"
   ]
  },
  {
   "cell_type": "code",
   "execution_count": 145,
   "id": "5f53ec35",
   "metadata": {},
   "outputs": [
    {
     "data": {
      "text/html": [
       "Changes: <br /><table><tr><th>Type</th><th>Identifier</th><th>Value</th><tr><td>Register</td><td>EAX</td>\n",
       "            <td>95</td></tr><tr><td>Register</td><td>EBX</td>\n",
       "            <td>5</td></tr><tr><td>Register</td><td>EDX</td>\n",
       "            <td>2</td></tr><tr><td>Memory</td><td>1</td>\n",
       "            <td>95</td></tr></table>"
      ]
     },
     "metadata": {},
     "output_type": "display_data"
    }
   ],
   "source": [
    ";D) Celsius a Farenheit\n",
    ".data\n",
    "    cTemp DW 35\n",
    "    fTemp DW ?\n",
    ".text\n",
    "    mov eax, [cTemp]\n",
    "    imul eax, 9\n",
    "    add eax,2\n",
    "    mov ebx,5\n",
    "    idiv ebx\n",
    "    add eax,32\n",
    "    mov [fTemp],eax"
   ]
  },
  {
   "cell_type": "code",
   "execution_count": 146,
   "id": "e465c853",
   "metadata": {},
   "outputs": [
    {
     "data": {
      "text/html": [
       "Changes: <br /><table><tr><th>Type</th><th>Identifier</th><th>Value</th><tr><td>Register</td><td>EAX</td>\n",
       "            <td>35</td></tr><tr><td>Register</td><td>EBX</td>\n",
       "            <td>5</td></tr><tr><td>Register</td><td>ECX</td>\n",
       "            <td>9</td></tr><tr><td>Register</td><td>EDX</td>\n",
       "            <td>0</td></tr><tr><td>Memory</td><td>0</td>\n",
       "            <td>35</td></tr></table>"
      ]
     },
     "metadata": {},
     "output_type": "display_data"
    }
   ],
   "source": [
    ";D) Farenheit a Celsius \n",
    ".data\n",
    "    cTemp DW ?\n",
    "    fTemp DW 95\n",
    ".text\n",
    "    mov eax, [fTemp]\n",
    "    sub eax, 32\n",
    "    mov ebx, 5\n",
    "    imul eax,ebx\n",
    "    mov ecx,9\n",
    "    idiv ecx\n",
    "    mov [cTemp],eax\n",
    "    \n",
    "    \n"
   ]
  },
  {
   "cell_type": "code",
   "execution_count": 147,
   "id": "8f945cb3",
   "metadata": {},
   "outputs": [
    {
     "data": {
      "text/html": [
       "Changes: <br /><table><tr><th>Type</th><th>Identifier</th><th>Value</th></table>"
      ]
     },
     "metadata": {},
     "output_type": "display_data"
    }
   ],
   "source": [
    ";2) \n",
    "   ;A) 2^6 = 64\n",
    "   ;B) 2^10-1 = 1023"
   ]
  },
  {
   "cell_type": "code",
   "execution_count": 148,
   "id": "dd25b402",
   "metadata": {},
   "outputs": [
    {
     "data": {
      "text/html": [
       "Changes: <br /><table><tr><th>Type</th><th>Identifier</th><th>Value</th></table>"
      ]
     },
     "metadata": {},
     "output_type": "display_data"
    }
   ],
   "source": [
    ";3) Guarda el numero 19 en la posicion 12"
   ]
  }
 ],
 "metadata": {
  "kernelspec": {
   "display_name": "Intel",
   "language": "",
   "name": "intel"
  },
  "language_info": {
   "file_extension": "x86",
   "mimetype": "intel",
   "name": "intel"
  }
 },
 "nbformat": 4,
 "nbformat_minor": 5
}
